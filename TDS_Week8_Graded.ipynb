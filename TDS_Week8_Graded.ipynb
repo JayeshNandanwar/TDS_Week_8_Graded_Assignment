{
  "nbformat": 4,
  "nbformat_minor": 0,
  "metadata": {
    "colab": {
      "provenance": [],
      "authorship_tag": "ABX9TyOdY+o2JrgV0alMxHH7FeVs",
      "include_colab_link": true
    },
    "kernelspec": {
      "name": "python3",
      "display_name": "Python 3"
    },
    "language_info": {
      "name": "python"
    }
  },
  "cells": [
    {
      "cell_type": "markdown",
      "metadata": {
        "id": "view-in-github",
        "colab_type": "text"
      },
      "source": [
        "<a href=\"https://colab.research.google.com/github/JayeshNandanwar/TDS_Week_8_Graded_Assignment/blob/main/TDS_Week8_Graded.ipynb\" target=\"_parent\"><img src=\"https://colab.research.google.com/assets/colab-badge.svg\" alt=\"Open In Colab\"/></a>"
      ]
    },
    {
      "cell_type": "code",
      "source": [
        "!pip install streamlit"
      ],
      "metadata": {
        "id": "HLeI14yOu0Xo"
      },
      "execution_count": null,
      "outputs": []
    },
    {
      "cell_type": "code",
      "source": [
        "!wget https://bin.equinox.io/c/4VmDzA7iaHb/ngrok-stable-linux-amd64.zip\n",
        "!unzip -u ngrok-stable-linux-amd64.zip"
      ],
      "metadata": {
        "id": "_1L-lQ8VwOuq"
      },
      "execution_count": null,
      "outputs": []
    },
    {
      "cell_type": "code",
      "source": [
        "!/content/ngrok authtoken 2OdfFRqcZXBO7PwLklr1fBEaI5l_6N87YEJF1T3vDk9gSDycM"
      ],
      "metadata": {
        "id": "UNWmT6Z7whd-"
      },
      "execution_count": null,
      "outputs": []
    },
    {
      "cell_type": "code",
      "source": [
        "get_ipython().system_raw(' ./ngrok http 8501 &')"
      ],
      "metadata": {
        "id": "beKpnMTkyx9-"
      },
      "execution_count": 17,
      "outputs": []
    },
    {
      "cell_type": "code",
      "source": [
        "!curl -s \"http://localhost:4040/api/tunnels\" | python3 -c 'import sys, json; resp = json.load(sys.stdin); print(\"Execute the next cell and go to the following URL: \" + resp[\"tunnels\"][0][\"public_url\"] if resp[\"tunnels\"] else \"No ngrok tunnel found.\")'\n"
      ],
      "metadata": {
        "colab": {
          "base_uri": "https://localhost:8080/"
        },
        "id": "gF-m1PV67O2V",
        "outputId": "bbae6bb6-79b9-4578-ab39-d742168b3dc7"
      },
      "execution_count": 18,
      "outputs": [
        {
          "output_type": "stream",
          "name": "stdout",
          "text": [
            "Execute the next cell and go to the following URL: https://c6d8-35-245-98-124.ngrok-free.app\n"
          ]
        }
      ]
    },
    {
      "cell_type": "code",
      "source": [
        "!streamlit run \"/content/app.py\""
      ],
      "metadata": {
        "id": "iyMr-NMG1ur2"
      },
      "execution_count": null,
      "outputs": []
    }
  ]
}